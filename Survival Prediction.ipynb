{
 "cells": [
  {
   "cell_type": "code",
   "execution_count": null,
   "id": "fafe219f",
   "metadata": {},
   "outputs": [],
   "source": [
    "import pandas as pd\n",
    "import sqlalchemy\n",
    "import csv\n",
    "from sqlalchemy.ext.automap import automap_base\n",
    "from sqlalchemy.orm import Session\n",
    "from sqlalchemy import create_engine, func\n",
    "import sqlite3 as sql\n",
    "from sqlalchemy import create_engine, MetaData, inspect\n",
    "from sqlalchemy.ext.declarative import declarative_base\n",
    "from sqlalchemy import Column, Integer, String, Numeric, Text, Float, ForeignKey\n",
    "from pathlib import Path\n",
    "from sklearn.model_selection import train_test_split\n",
    "from sklearn.linear_model import LogisticRegression\n",
    "from sklearn.preprocessing import StandardScaler, LabelEncoder\n",
    "from sklearn.datasets import make_classification\n",
    "from sklearn.ensemble import RandomForestRegressor\n",
    "from sklearn.ensemble import GradientBoostingRegressor\n",
    "from sklearn.metrics import mean_squared_error, r2_score\n",
    "from sklearn.linear_model import LinearRegression\n",
    "from sklearn.metrics import mean_absolute_error\n",
    "\n"
   ]
  },
  {
   "cell_type": "markdown",
   "id": "05a39b0f",
   "metadata": {},
   "source": [
    "# Creating SQLlite Table Structure"
   ]
  },
  {
   "cell_type": "code",
   "execution_count": null,
   "id": "ddd4eb04",
   "metadata": {},
   "outputs": [],
   "source": [
    "# Create Engine\n",
    "### BEGIN SOLUTION\n",
    "engine = create_engine(\"sqlite:///survivalprediction.sqlite\")\n",
    "### END SOLUTION"
   ]
  },
  {
   "cell_type": "code",
   "execution_count": null,
   "id": "7fb6d371",
   "metadata": {},
   "outputs": [],
   "source": [
    "# Use `declarative_base` from SQLAlchemy to model table as an ORM class\n",
    "# Make sure to specify types for each column\n",
    "\n",
    "# Declare a Base object here\n",
    "### BEGIN SOLUTION\n",
    "Base = declarative_base()\n",
    "\n",
    "### END SOLUTION"
   ]
  },
  {
   "cell_type": "code",
   "execution_count": null,
   "id": "bab9e7f5",
   "metadata": {},
   "outputs": [],
   "source": [
    "conn = engine.connect()\n",
    "conn.text_factory = str"
   ]
  },
  {
   "cell_type": "code",
   "execution_count": null,
   "id": "b4ec703d",
   "metadata": {},
   "outputs": [],
   "source": [
    "# Define the ORM class\n",
    "### BEGIN SOLUTION\n",
    "class Surv(Base):\n",
    "    \n",
    "    __tablename__ = 'prediction'\n",
    "    \n",
    "    Primary_Key = Column(Integer, primary_key=True, unique=True)\n",
    "    Age = Column(String(20))\n",
    "    Cancer_Stage = Column(String(10))\n",
    "    Gender = Column(String(10))\n",
    "    Cancer_Site = Column(String(25))\n",
    "    Race = Column(String(50))\n",
    "    Median_Household_Income = Column(String(25))\n",
    "    Cancer_Type = Column(String(50))\n",
    "\n",
    "                      \n",
    "### END SOLUTION"
   ]
  },
  {
   "cell_type": "code",
   "execution_count": null,
   "id": "2ed4869d",
   "metadata": {},
   "outputs": [],
   "source": [
    "# Use `create_all` to create the tables\n",
    "### BEGIN SOLUTION\n",
    "Base.metadata.create_all(engine)\n",
    "### END SOLUTION"
   ]
  },
  {
   "cell_type": "code",
   "execution_count": null,
   "id": "e876a7c0",
   "metadata": {},
   "outputs": [],
   "source": [
    "inspector = inspect(engine)"
   ]
  },
  {
   "cell_type": "code",
   "execution_count": null,
   "id": "10d2fbcc",
   "metadata": {},
   "outputs": [],
   "source": [
    "table_names = inspector.get_table_names()\n",
    "print(table_names)"
   ]
  },
  {
   "cell_type": "code",
   "execution_count": null,
   "id": "a0105ac7",
   "metadata": {},
   "outputs": [],
   "source": [
    "columns = inspector.get_columns('prediction')\n",
    "for column in columns:\n",
    "    print(column[\"name\"], column[\"type\"])"
   ]
  },
  {
   "cell_type": "markdown",
   "id": "2ee16c63",
   "metadata": {},
   "source": [
    "# Data Load/Cleaning Before Machine Learning & DB Creation"
   ]
  },
  {
   "cell_type": "code",
   "execution_count": null,
   "id": "24125c0c",
   "metadata": {},
   "outputs": [],
   "source": [
    "file = \"C://Users/shawn/tester.txt\"\n",
    "data = 'Tester.txt'"
   ]
  },
  {
   "cell_type": "code",
   "execution_count": null,
   "id": "53be3022",
   "metadata": {},
   "outputs": [],
   "source": [
    "#Read csv\n",
    "Survival = pd.read_csv(data, encoding = 'utf8')"
   ]
  },
  {
   "cell_type": "code",
   "execution_count": null,
   "id": "cb4624b4",
   "metadata": {},
   "outputs": [],
   "source": [
    "# Create dataframe with newly appended data\n",
    "Survival_DF = pd.DataFrame(Survival)"
   ]
  },
  {
   "cell_type": "code",
   "execution_count": null,
   "id": "369c61c0",
   "metadata": {},
   "outputs": [],
   "source": [
    "# Show DF\n",
    "Survival_DF.head(5)"
   ]
  },
  {
   "cell_type": "code",
   "execution_count": null,
   "id": "79bacd8a",
   "metadata": {},
   "outputs": [],
   "source": [
    "# Rename columns\n",
    "Survival_DF2 = Survival_DF.rename(columns={'Sex': 'Gender', 'Age recode with single ages and 85+':'Age',\n",
    "       'Median household income inflation adj to 2018':'Median_Household_Income','Histology recode - broad groupings':'Cancer_Type',\n",
    "       'Derived AJCC Stage Group, 7th ed (2010-2015)':'Cancer_Stage', 'Survival months':'Survival_Months',\n",
    "       'Race and origin recode (NHW, NHB, NHAIAN, NHAPI, Hispanic)':'Race','CS Schema - AJCC 6th Edition': 'Cancer_Site'})"
   ]
  },
  {
   "cell_type": "code",
   "execution_count": null,
   "id": "b688dbfc",
   "metadata": {},
   "outputs": [],
   "source": [
    "\n",
    "Survival_DF2 = Survival_DF2.loc[Survival_DF2['Survival_Months'] != 'Unknown']\n",
    "Survival_DF2 = Survival_DF2.loc[Survival_DF2['Age'] != 'Unknown']\n",
    "Survival_DF2['Age'] = Survival_DF2['Age'].str.replace(' years','')\n",
    "Survival_DF2['Age'] = Survival_DF2['Age'].str.replace('+','')\n",
    "Survival_DF2['Median_Household_Income'] = Survival_DF2['Median_Household_Income'].str.replace('Unknown/missing/no match/Not 1990-2017','Unknown')"
   ]
  },
  {
   "cell_type": "code",
   "execution_count": null,
   "id": "6b675b8d",
   "metadata": {},
   "outputs": [],
   "source": [
    "Survival_DF2.columns"
   ]
  },
  {
   "cell_type": "code",
   "execution_count": null,
   "id": "31114a44",
   "metadata": {},
   "outputs": [],
   "source": [
    "Survival_DF2['Cancer_Type'] = Survival_DF2['Cancer_Type'].astype(str)"
   ]
  },
  {
   "cell_type": "code",
   "execution_count": null,
   "id": "5f6a9707",
   "metadata": {},
   "outputs": [],
   "source": [
    "Survival_DF2['Cancer_Type'] = Survival_DF2['Cancer_Type'].str.split(':').str[1]"
   ]
  },
  {
   "cell_type": "code",
   "execution_count": null,
   "id": "dde879bc",
   "metadata": {},
   "outputs": [],
   "source": [
    "# Capitalize first letter of each word in 'Cancer Type column'\n",
    "Survival_DF2['Cancer_Type'] = Survival_DF2['Cancer_Type'].str.title()"
   ]
  },
  {
   "cell_type": "code",
   "execution_count": null,
   "id": "5dbe922e",
   "metadata": {},
   "outputs": [],
   "source": [
    "Survival_DF2['Survival_Months'] = pd.to_numeric(Survival_DF2['Survival_Months'])\n",
    "Survival_DF2['Age'] = pd.to_numeric(Survival_DF2['Age'])\n",
    "Survival_DF2['Age'].dtype"
   ]
  },
  {
   "cell_type": "code",
   "execution_count": null,
   "id": "9848b51c",
   "metadata": {},
   "outputs": [],
   "source": [
    "Survival_DF2.head()"
   ]
  },
  {
   "cell_type": "code",
   "execution_count": null,
   "id": "8ee6c0d0",
   "metadata": {},
   "outputs": [],
   "source": [
    "# Drop all rows with missing information\n",
    "df_clean_data = Survival_DF2.dropna(how='any')"
   ]
  },
  {
   "cell_type": "code",
   "execution_count": null,
   "id": "62b3f31a",
   "metadata": {},
   "outputs": [],
   "source": [
    "#Iterate through rows to identify what columns have null values\n",
    "for column in df_clean_data.columns:\n",
    "    print(f\"Column {column} has {df_clean_data[column].isnull().sum()} null values\")"
   ]
  },
  {
   "cell_type": "code",
   "execution_count": null,
   "id": "7f90e003",
   "metadata": {},
   "outputs": [],
   "source": [
    "df_clean_data.head()"
   ]
  },
  {
   "cell_type": "markdown",
   "id": "ae4df204",
   "metadata": {},
   "source": [
    "# SQLlite DB Creation"
   ]
  },
  {
   "cell_type": "code",
   "execution_count": null,
   "id": "24cb33bd",
   "metadata": {},
   "outputs": [],
   "source": [
    "Survival_DF3 = df_clean_data.drop(['Survival_Months'], axis=1)"
   ]
  },
  {
   "cell_type": "code",
   "execution_count": null,
   "id": "478ebb66",
   "metadata": {},
   "outputs": [],
   "source": [
    "Final = Survival_DF3.drop_duplicates()\n",
    "Final.head()"
   ]
  },
  {
   "cell_type": "code",
   "execution_count": null,
   "id": "caa79036",
   "metadata": {},
   "outputs": [],
   "source": [
    "Base.metadata.create_all(engine)"
   ]
  },
  {
   "cell_type": "code",
   "execution_count": null,
   "id": "dafa2a19",
   "metadata": {},
   "outputs": [],
   "source": [
    "#Convert csv data to dictionary\n",
    "CancerSurvival = Final.to_dict(orient='records')\n",
    "#View first row of dictionary\n",
    "CancerSurvival[0]"
   ]
  },
  {
   "cell_type": "code",
   "execution_count": null,
   "id": "f2df33a6",
   "metadata": {},
   "outputs": [],
   "source": [
    "metadata = MetaData(bind=engine)\n",
    "metadata.reflect()"
   ]
  },
  {
   "cell_type": "code",
   "execution_count": null,
   "id": "7b75cbe0",
   "metadata": {},
   "outputs": [],
   "source": [
    "#Create sqlalchemy table\n",
    "SurvivalTable = sqlalchemy.Table('prediction', metadata, autoload=True)"
   ]
  },
  {
   "cell_type": "code",
   "execution_count": null,
   "id": "94717679",
   "metadata": {},
   "outputs": [],
   "source": [
    "#Insert dictionary data into sqlalchemy table\n",
    "conn.execute(SurvivalTable.insert(), CancerSurvival)"
   ]
  },
  {
   "cell_type": "code",
   "execution_count": null,
   "id": "87cc5d48",
   "metadata": {},
   "outputs": [],
   "source": [
    "#View sqlalchemy table data\n",
    "conn.execute(\"select * from prediction\").fetchall()"
   ]
  },
  {
   "cell_type": "markdown",
   "id": "1c649c73",
   "metadata": {},
   "source": [
    "# Flask Test"
   ]
  },
  {
   "cell_type": "code",
   "execution_count": null,
   "id": "1be4208a",
   "metadata": {},
   "outputs": [],
   "source": [
    "engine = create_engine(\"sqlite:///survivalprediction.sqlite\")\n",
    "\n",
    "# reflect an existing database into a new model\n",
    "Base = automap_base()\n",
    "# reflect the tables\n",
    "Base.prepare(engine, reflect=True)\n",
    "\n",
    "# Save reference to the table\n",
    "CS = Base.classes.prediction"
   ]
  },
  {
   "cell_type": "code",
   "execution_count": null,
   "id": "c29cc47c",
   "metadata": {},
   "outputs": [],
   "source": [
    "session = Session(engine)"
   ]
  },
  {
   "cell_type": "markdown",
   "id": "95cca8ff",
   "metadata": {},
   "source": [
    "Cancer Site"
   ]
  },
  {
   "cell_type": "code",
   "execution_count": null,
   "id": "7cf449ae",
   "metadata": {},
   "outputs": [],
   "source": [
    "# Query for unique cancer site names\n",
    "cancer_site_results = session.query(CS.Cancer_Site).distinct()"
   ]
  },
  {
   "cell_type": "code",
   "execution_count": null,
   "id": "ae8b52c4",
   "metadata": {},
   "outputs": [],
   "source": [
    "    session.close()\n",
    "\n",
    "    cancer_site_list = []\n",
    "    for Cancer_Site in cancer_site_results:\n",
    "        cancer_site_dict = {}\n",
    "        cancer_site_dict[\"Cancer_Site\"] = Cancer_Site\n",
    "        cancer_site_list.append(cancer_site_dict)\n",
    "        "
   ]
  },
  {
   "cell_type": "code",
   "execution_count": null,
   "id": "dea87953",
   "metadata": {},
   "outputs": [],
   "source": [
    "print(cancer_site_list)"
   ]
  },
  {
   "cell_type": "markdown",
   "id": "8f8c3360",
   "metadata": {},
   "source": [
    "Median Household Income"
   ]
  },
  {
   "cell_type": "code",
   "execution_count": null,
   "id": "83360d48",
   "metadata": {},
   "outputs": [],
   "source": [
    "Median_Household_Income_Results = session.query(CS.Median_Household_Income).distinct()"
   ]
  },
  {
   "cell_type": "code",
   "execution_count": null,
   "id": "169553d2",
   "metadata": {},
   "outputs": [],
   "source": [
    "    session.close()\n",
    "\n",
    "    median_household_income_list = []\n",
    "    for Median_Household_Income in Median_Household_Income_Results:\n",
    "        median_household_income_dict = {}\n",
    "        median_household_income_dict[\"Median_Household_Income\"] = Median_Household_Income\n",
    "        median_household_income_list.append(median_household_income_dict)\n",
    "        \n",
    "print(median_household_income_list)"
   ]
  },
  {
   "cell_type": "markdown",
   "id": "7381f3a6",
   "metadata": {},
   "source": [
    "Race"
   ]
  },
  {
   "cell_type": "code",
   "execution_count": null,
   "id": "a6d7227d",
   "metadata": {},
   "outputs": [],
   "source": [
    "Race_Results = session.query(CS.Race).distinct()"
   ]
  },
  {
   "cell_type": "code",
   "execution_count": null,
   "id": "26bd0e67",
   "metadata": {},
   "outputs": [],
   "source": [
    "    session.close()\n",
    "\n",
    "    race_list = []\n",
    "    for Race in Race_Results:\n",
    "        race_dict = {}\n",
    "        race_dict[\"Race\"] = Race\n",
    "        race_list.append(race_dict)\n",
    "        \n",
    "print(race_list)"
   ]
  },
  {
   "cell_type": "markdown",
   "id": "55fb98ad",
   "metadata": {},
   "source": [
    "Cancer Stage"
   ]
  },
  {
   "cell_type": "code",
   "execution_count": null,
   "id": "0829b3c2",
   "metadata": {},
   "outputs": [],
   "source": [
    "Cancer_Stage_Results = session.query(CS.Cancer_Stage).distinct()"
   ]
  },
  {
   "cell_type": "code",
   "execution_count": null,
   "id": "90a59a78",
   "metadata": {},
   "outputs": [],
   "source": [
    "    session.close()\n",
    "\n",
    "    cancer_stage_list = []\n",
    "    for Cancer_Stage in Cancer_Stage_Results:\n",
    "        cancer_stage_dict = {}\n",
    "        cancer_stage_dict[\"Cancer_Stage\"] = Cancer_Stage\n",
    "        cancer_stage_list.append(cancer_stage_dict)\n",
    "        \n",
    "print(cancer_stage_list)"
   ]
  },
  {
   "cell_type": "markdown",
   "id": "c1c07579",
   "metadata": {},
   "source": [
    "Cancer Type"
   ]
  },
  {
   "cell_type": "code",
   "execution_count": null,
   "id": "afe1e383",
   "metadata": {},
   "outputs": [],
   "source": [
    "Cancer_Type_Results = session.query(CS.Cancer_Type).distinct()"
   ]
  },
  {
   "cell_type": "code",
   "execution_count": null,
   "id": "35088064",
   "metadata": {},
   "outputs": [],
   "source": [
    "    session.close()\n",
    "\n",
    "    cancer_type_list = []\n",
    "    for Cancer_Type in Cancer_Type_Results:\n",
    "        cancer_type_dict = {}\n",
    "        cancer_type_dict[\"Cancer_Type\"] = Cancer_Type\n",
    "        cancer_type_list.append(cancer_type_dict)\n",
    "        \n",
    "print(cancer_type_list)"
   ]
  },
  {
   "cell_type": "markdown",
   "id": "44b18a6a",
   "metadata": {},
   "source": [
    "Age"
   ]
  },
  {
   "cell_type": "code",
   "execution_count": null,
   "id": "67ab70c6",
   "metadata": {},
   "outputs": [],
   "source": [
    "Age_Results = session.query(CS.Age).distinct()"
   ]
  },
  {
   "cell_type": "code",
   "execution_count": null,
   "id": "bb19f8bf",
   "metadata": {},
   "outputs": [],
   "source": [
    "    session.close()\n",
    "\n",
    "    age_list = []\n",
    "    for Age in Age_Results:\n",
    "        age_dict = {}\n",
    "        age_dict[\"Age\"] = Age\n",
    "        age_list.append(age_dict)\n",
    "        \n",
    "print(age_list)"
   ]
  },
  {
   "cell_type": "markdown",
   "id": "92f84e65",
   "metadata": {},
   "source": [
    "Gender"
   ]
  },
  {
   "cell_type": "code",
   "execution_count": null,
   "id": "ccc045bf",
   "metadata": {},
   "outputs": [],
   "source": [
    "Gender_Results = session.query(CS.Gender).distinct()"
   ]
  },
  {
   "cell_type": "code",
   "execution_count": null,
   "id": "75302577",
   "metadata": {},
   "outputs": [],
   "source": [
    "    session.close()\n",
    "\n",
    "    gender_list = []\n",
    "    for Gender in Gender_Results:\n",
    "        gender_dict = {}\n",
    "        gender_dict[\"Gender\"] = Gender\n",
    "        gender_list.append(gender_dict)\n",
    "        \n",
    "print(gender_list)"
   ]
  },
  {
   "cell_type": "code",
   "execution_count": null,
   "id": "0f748632",
   "metadata": {},
   "outputs": [],
   "source": [
    "    session.close()"
   ]
  },
  {
   "cell_type": "markdown",
   "id": "f5bbe8eb",
   "metadata": {},
   "source": [
    "# Machine Learning Sample Data Frame"
   ]
  },
  {
   "cell_type": "code",
   "execution_count": null,
   "id": "9036358a",
   "metadata": {},
   "outputs": [],
   "source": [
    "df_sample = df_clean_data.sample(frac=.10)\n",
    "df_sample.head()"
   ]
  },
  {
   "cell_type": "code",
   "execution_count": null,
   "id": "a2b04425",
   "metadata": {},
   "outputs": [],
   "source": [
    "y_sample = df_sample['Survival_Months']/12\n",
    "y_sample = y_sample.round()\n",
    "y_sample"
   ]
  },
  {
   "cell_type": "code",
   "execution_count": null,
   "id": "b09dbc97",
   "metadata": {},
   "outputs": [],
   "source": [
    "testing_data_sample = df_sample.drop(['Survival_Months'], axis=1)\n",
    "testing_data_sample"
   ]
  },
  {
   "cell_type": "code",
   "execution_count": null,
   "id": "bb11909c",
   "metadata": {},
   "outputs": [],
   "source": [
    "X_sample = pd.get_dummies(testing_data_sample)\n",
    "X_sample"
   ]
  },
  {
   "cell_type": "markdown",
   "id": "1ff1119e",
   "metadata": {},
   "source": [
    "# Supervised Machine Learning"
   ]
  },
  {
   "cell_type": "markdown",
   "id": "97c8dbd4",
   "metadata": {},
   "source": [
    "### Linear Regression (Sample)"
   ]
  },
  {
   "cell_type": "code",
   "execution_count": null,
   "id": "85f601ed",
   "metadata": {},
   "outputs": [],
   "source": [
    "print(\"Shape: \", X_sample.shape, y_sample.shape)"
   ]
  },
  {
   "cell_type": "code",
   "execution_count": null,
   "id": "68c513f3",
   "metadata": {},
   "outputs": [],
   "source": [
    "X_train, X_test, y_train, y_test = train_test_split(X_sample, y_sample, random_state=1)"
   ]
  },
  {
   "cell_type": "code",
   "execution_count": null,
   "id": "ff70370e",
   "metadata": {},
   "outputs": [],
   "source": [
    "predication_data = pd.Series(0,index=X_train.columns)\n",
    "predication_data.to_csv('resources/Blank_Form.csv')"
   ]
  },
  {
   "cell_type": "code",
   "execution_count": null,
   "id": "18f027f6",
   "metadata": {},
   "outputs": [],
   "source": [
    "model = LinearRegression()\n",
    "model"
   ]
  },
  {
   "cell_type": "code",
   "execution_count": null,
   "id": "1e90ea26",
   "metadata": {},
   "outputs": [],
   "source": [
    "model.fit(X_train, y_train)"
   ]
  },
  {
   "cell_type": "code",
   "execution_count": null,
   "id": "677c577a",
   "metadata": {},
   "outputs": [],
   "source": [
    "print(f\"Training Data Score: {model.score(X_train, y_train)}\")\n",
    "print(f\"Testing Data Score: {model.score(X_test, y_test)}\")"
   ]
  },
  {
   "cell_type": "markdown",
   "id": "f3a8f5bd",
   "metadata": {},
   "source": [
    "### Random Forest (Sample)"
   ]
  },
  {
   "cell_type": "code",
   "execution_count": null,
   "id": "e05e965e",
   "metadata": {},
   "outputs": [],
   "source": [
    "model = GradientBoostingRegressor()\n",
    "model"
   ]
  },
  {
   "cell_type": "code",
   "execution_count": null,
   "id": "18706aee",
   "metadata": {},
   "outputs": [],
   "source": [
    "model.fit(X_train, y_train)"
   ]
  },
  {
   "cell_type": "code",
   "execution_count": null,
   "id": "9f63528d",
   "metadata": {},
   "outputs": [],
   "source": [
    "print(f\"Training Data Score: {model.score(X_train, y_train)}\")\n",
    "print(f\"Testing Data Score: {model.score(X_test, y_test)}\")"
   ]
  },
  {
   "cell_type": "code",
   "execution_count": null,
   "id": "56d28234",
   "metadata": {},
   "outputs": [],
   "source": [
    "import numpy as np\n",
    "model.predict(np.reshape(np.array(predication_data.values.tolist()),(1,198)))"
   ]
  },
  {
   "cell_type": "code",
   "execution_count": null,
   "id": "59e0b808",
   "metadata": {},
   "outputs": [],
   "source": [
    "def modelFunction(model_name, model):\n",
    "    import pickle \n",
    "    with open(str(model_name), \"wb\") as f:\n",
    "        pickle.dump(model,f)"
   ]
  },
  {
   "cell_type": "code",
   "execution_count": null,
   "id": "55576ae1",
   "metadata": {},
   "outputs": [],
   "source": [
    "modelFunction(\"resources/model.pkl\", model)"
   ]
  },
  {
   "cell_type": "code",
   "execution_count": null,
   "id": "d3444491",
   "metadata": {},
   "outputs": [],
   "source": [
    "predicated = model.predict(X_test)\n",
    "mean_absolute_error(y_test,predicated)"
   ]
  },
  {
   "cell_type": "markdown",
   "id": "987875e2",
   "metadata": {},
   "source": [
    "##### All the code below was our trial and error period fro different models. We tried utilizing full data sets and it caused the model to run almost for 20-30+ minutes. After models were ran we still recieved similar scores to samples. All of the code in the next cell isn't needed, but there for learning purposes."
   ]
  },
  {
   "cell_type": "code",
   "execution_count": null,
   "id": "a214876f",
   "metadata": {},
   "outputs": [],
   "source": [
    "#### Linear Regression Model\n",
    "\n",
    "# y = df_clean_data['Survival_Months']\n",
    "# testing_data = df_clean_data.drop('Survival_Months', axis=1)\n",
    "# X = pd.get_dummies(testing_data)\n",
    "# X_train, X_test, y_train, y_test = train_test_split(X, y, random_state=1)\n",
    "# model.fit(X_train, y_train)\n",
    "# print(f\"Training Data Score: {model.score(X_train, y_train)}\")\n",
    "# print(f\"Testing Data Score: {model.score(X_test, y_test)}\")"
   ]
  },
  {
   "cell_type": "code",
   "execution_count": null,
   "id": "4d382fb8",
   "metadata": {},
   "outputs": [],
   "source": [
    "#### Random Forest Model\n",
    "\n",
    "# model = GradientBoostingRegressor()\n",
    "# model.fit(X_train, y_train)\n",
    "# print(f\"Training Data Score: {model.score(X_train, y_train)}\")\n",
    "# print(f\"Testing Data Score: {model.score(X_test, y_test)}\")\n",
    "# predicated = model.predict(X_test)\n",
    "# mean_absolute_error(y_test,predicated)"
   ]
  }
 ],
 "metadata": {
  "kernelspec": {
   "display_name": "Python 3",
   "language": "python",
   "name": "python3"
  },
  "language_info": {
   "codemirror_mode": {
    "name": "ipython",
    "version": 3
   },
   "file_extension": ".py",
   "mimetype": "text/x-python",
   "name": "python",
   "nbconvert_exporter": "python",
   "pygments_lexer": "ipython3",
   "version": "3.8.8"
  }
 },
 "nbformat": 4,
 "nbformat_minor": 5
}
